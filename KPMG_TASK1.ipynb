{
  "nbformat": 4,
  "nbformat_minor": 0,
  "metadata": {
    "colab": {
      "name": "KPMG_TASK1.ipynb",
      "provenance": [],
      "authorship_tag": "ABX9TyN+Suds1EwO0N01+sNuEaVN",
      "include_colab_link": true
    },
    "kernelspec": {
      "name": "python3",
      "display_name": "Python 3"
    },
    "language_info": {
      "name": "python"
    }
  },
  "cells": [
    {
      "cell_type": "markdown",
      "metadata": {
        "id": "view-in-github",
        "colab_type": "text"
      },
      "source": [
        "<a href=\"https://colab.research.google.com/github/neethj/virtual-internship/blob/main/KPMG_TASK1.ipynb\" target=\"_parent\"><img src=\"https://colab.research.google.com/assets/colab-badge.svg\" alt=\"Open In Colab\"/></a>"
      ]
    },
    {
      "cell_type": "code",
      "metadata": {
        "id": "SdxPwqUptEbw"
      },
      "source": [
        "import pandas as pd"
      ],
      "execution_count": 1,
      "outputs": []
    },
    {
      "cell_type": "code",
      "metadata": {
        "colab": {
          "base_uri": "https://localhost:8080/"
        },
        "id": "03-NTjn_xBhA",
        "outputId": "736bad9d-7ccc-4507-d361-5672925ba47c"
      },
      "source": [
        "from google.colab import drive\n",
        "drive.mount('/content/drive/')"
      ],
      "execution_count": 2,
      "outputs": [
        {
          "output_type": "stream",
          "name": "stdout",
          "text": [
            "Mounted at /content/drive/\n"
          ]
        }
      ]
    },
    {
      "cell_type": "code",
      "metadata": {
        "id": "5t3g81VHxa61"
      },
      "source": [
        "df = pd.read_excel(\"/content/drive/MyDrive/kaggle/kpmg.xlsx\",sheet_name=\"Transactions\")"
      ],
      "execution_count": 3,
      "outputs": []
    },
    {
      "cell_type": "code",
      "metadata": {
        "colab": {
          "base_uri": "https://localhost:8080/",
          "height": 583
        },
        "id": "RT3QMZNYxnNV",
        "outputId": "ca7b9f15-dc3d-496a-b6b6-921d8cc33cce"
      },
      "source": [
        "df"
      ],
      "execution_count": 4,
      "outputs": [
        {
          "output_type": "execute_result",
          "data": {
            "text/html": [
              "<div>\n",
              "<style scoped>\n",
              "    .dataframe tbody tr th:only-of-type {\n",
              "        vertical-align: middle;\n",
              "    }\n",
              "\n",
              "    .dataframe tbody tr th {\n",
              "        vertical-align: top;\n",
              "    }\n",
              "\n",
              "    .dataframe thead th {\n",
              "        text-align: right;\n",
              "    }\n",
              "</style>\n",
              "<table border=\"1\" class=\"dataframe\">\n",
              "  <thead>\n",
              "    <tr style=\"text-align: right;\">\n",
              "      <th></th>\n",
              "      <th>transaction_id</th>\n",
              "      <th>product_id</th>\n",
              "      <th>customer_id</th>\n",
              "      <th>transaction_date</th>\n",
              "      <th>online_order</th>\n",
              "      <th>order_status</th>\n",
              "      <th>brand</th>\n",
              "      <th>product_line</th>\n",
              "      <th>product_class</th>\n",
              "      <th>product_size</th>\n",
              "      <th>list_price</th>\n",
              "      <th>standard_cost</th>\n",
              "      <th>product_first_sold_date</th>\n",
              "    </tr>\n",
              "  </thead>\n",
              "  <tbody>\n",
              "    <tr>\n",
              "      <th>0</th>\n",
              "      <td>1</td>\n",
              "      <td>2</td>\n",
              "      <td>2950</td>\n",
              "      <td>2017-02-25</td>\n",
              "      <td>0.0</td>\n",
              "      <td>Approved</td>\n",
              "      <td>Solex</td>\n",
              "      <td>Standard</td>\n",
              "      <td>medium</td>\n",
              "      <td>medium</td>\n",
              "      <td>71.49</td>\n",
              "      <td>53.62</td>\n",
              "      <td>41245.0</td>\n",
              "    </tr>\n",
              "    <tr>\n",
              "      <th>1</th>\n",
              "      <td>2</td>\n",
              "      <td>3</td>\n",
              "      <td>3120</td>\n",
              "      <td>2017-05-21</td>\n",
              "      <td>1.0</td>\n",
              "      <td>Approved</td>\n",
              "      <td>Trek Bicycles</td>\n",
              "      <td>Standard</td>\n",
              "      <td>medium</td>\n",
              "      <td>large</td>\n",
              "      <td>2091.47</td>\n",
              "      <td>388.92</td>\n",
              "      <td>41701.0</td>\n",
              "    </tr>\n",
              "    <tr>\n",
              "      <th>2</th>\n",
              "      <td>3</td>\n",
              "      <td>37</td>\n",
              "      <td>402</td>\n",
              "      <td>2017-10-16</td>\n",
              "      <td>0.0</td>\n",
              "      <td>Approved</td>\n",
              "      <td>OHM Cycles</td>\n",
              "      <td>Standard</td>\n",
              "      <td>low</td>\n",
              "      <td>medium</td>\n",
              "      <td>1793.43</td>\n",
              "      <td>248.82</td>\n",
              "      <td>36361.0</td>\n",
              "    </tr>\n",
              "    <tr>\n",
              "      <th>3</th>\n",
              "      <td>4</td>\n",
              "      <td>88</td>\n",
              "      <td>3135</td>\n",
              "      <td>2017-08-31</td>\n",
              "      <td>0.0</td>\n",
              "      <td>Approved</td>\n",
              "      <td>Norco Bicycles</td>\n",
              "      <td>Standard</td>\n",
              "      <td>medium</td>\n",
              "      <td>medium</td>\n",
              "      <td>1198.46</td>\n",
              "      <td>381.10</td>\n",
              "      <td>36145.0</td>\n",
              "    </tr>\n",
              "    <tr>\n",
              "      <th>4</th>\n",
              "      <td>5</td>\n",
              "      <td>78</td>\n",
              "      <td>787</td>\n",
              "      <td>2017-10-01</td>\n",
              "      <td>1.0</td>\n",
              "      <td>Approved</td>\n",
              "      <td>Giant Bicycles</td>\n",
              "      <td>Standard</td>\n",
              "      <td>medium</td>\n",
              "      <td>large</td>\n",
              "      <td>1765.30</td>\n",
              "      <td>709.48</td>\n",
              "      <td>42226.0</td>\n",
              "    </tr>\n",
              "    <tr>\n",
              "      <th>...</th>\n",
              "      <td>...</td>\n",
              "      <td>...</td>\n",
              "      <td>...</td>\n",
              "      <td>...</td>\n",
              "      <td>...</td>\n",
              "      <td>...</td>\n",
              "      <td>...</td>\n",
              "      <td>...</td>\n",
              "      <td>...</td>\n",
              "      <td>...</td>\n",
              "      <td>...</td>\n",
              "      <td>...</td>\n",
              "      <td>...</td>\n",
              "    </tr>\n",
              "    <tr>\n",
              "      <th>19995</th>\n",
              "      <td>19996</td>\n",
              "      <td>51</td>\n",
              "      <td>1018</td>\n",
              "      <td>2017-06-24</td>\n",
              "      <td>1.0</td>\n",
              "      <td>Approved</td>\n",
              "      <td>OHM Cycles</td>\n",
              "      <td>Standard</td>\n",
              "      <td>high</td>\n",
              "      <td>medium</td>\n",
              "      <td>2005.66</td>\n",
              "      <td>1203.40</td>\n",
              "      <td>37823.0</td>\n",
              "    </tr>\n",
              "    <tr>\n",
              "      <th>19996</th>\n",
              "      <td>19997</td>\n",
              "      <td>41</td>\n",
              "      <td>127</td>\n",
              "      <td>2017-11-09</td>\n",
              "      <td>1.0</td>\n",
              "      <td>Approved</td>\n",
              "      <td>Solex</td>\n",
              "      <td>Road</td>\n",
              "      <td>medium</td>\n",
              "      <td>medium</td>\n",
              "      <td>416.98</td>\n",
              "      <td>312.74</td>\n",
              "      <td>35560.0</td>\n",
              "    </tr>\n",
              "    <tr>\n",
              "      <th>19997</th>\n",
              "      <td>19998</td>\n",
              "      <td>87</td>\n",
              "      <td>2284</td>\n",
              "      <td>2017-04-14</td>\n",
              "      <td>1.0</td>\n",
              "      <td>Approved</td>\n",
              "      <td>OHM Cycles</td>\n",
              "      <td>Standard</td>\n",
              "      <td>medium</td>\n",
              "      <td>medium</td>\n",
              "      <td>1636.90</td>\n",
              "      <td>44.71</td>\n",
              "      <td>40410.0</td>\n",
              "    </tr>\n",
              "    <tr>\n",
              "      <th>19998</th>\n",
              "      <td>19999</td>\n",
              "      <td>6</td>\n",
              "      <td>2764</td>\n",
              "      <td>2017-07-03</td>\n",
              "      <td>0.0</td>\n",
              "      <td>Approved</td>\n",
              "      <td>OHM Cycles</td>\n",
              "      <td>Standard</td>\n",
              "      <td>high</td>\n",
              "      <td>medium</td>\n",
              "      <td>227.88</td>\n",
              "      <td>136.73</td>\n",
              "      <td>38216.0</td>\n",
              "    </tr>\n",
              "    <tr>\n",
              "      <th>19999</th>\n",
              "      <td>20000</td>\n",
              "      <td>11</td>\n",
              "      <td>1144</td>\n",
              "      <td>2017-09-22</td>\n",
              "      <td>1.0</td>\n",
              "      <td>Approved</td>\n",
              "      <td>Trek Bicycles</td>\n",
              "      <td>Standard</td>\n",
              "      <td>medium</td>\n",
              "      <td>small</td>\n",
              "      <td>1775.81</td>\n",
              "      <td>1580.47</td>\n",
              "      <td>36334.0</td>\n",
              "    </tr>\n",
              "  </tbody>\n",
              "</table>\n",
              "<p>20000 rows × 13 columns</p>\n",
              "</div>"
            ],
            "text/plain": [
              "       transaction_id  product_id  ...  standard_cost product_first_sold_date\n",
              "0                   1           2  ...          53.62                 41245.0\n",
              "1                   2           3  ...         388.92                 41701.0\n",
              "2                   3          37  ...         248.82                 36361.0\n",
              "3                   4          88  ...         381.10                 36145.0\n",
              "4                   5          78  ...         709.48                 42226.0\n",
              "...               ...         ...  ...            ...                     ...\n",
              "19995           19996          51  ...        1203.40                 37823.0\n",
              "19996           19997          41  ...         312.74                 35560.0\n",
              "19997           19998          87  ...          44.71                 40410.0\n",
              "19998           19999           6  ...         136.73                 38216.0\n",
              "19999           20000          11  ...        1580.47                 36334.0\n",
              "\n",
              "[20000 rows x 13 columns]"
            ]
          },
          "metadata": {},
          "execution_count": 4
        }
      ]
    },
    {
      "cell_type": "code",
      "metadata": {
        "colab": {
          "base_uri": "https://localhost:8080/"
        },
        "id": "dFWx-87pyZZN",
        "outputId": "23aa68d5-3dfa-4b2d-89e4-e413e3dd5cee"
      },
      "source": [
        "df.info()"
      ],
      "execution_count": 5,
      "outputs": [
        {
          "output_type": "stream",
          "name": "stdout",
          "text": [
            "<class 'pandas.core.frame.DataFrame'>\n",
            "RangeIndex: 20000 entries, 0 to 19999\n",
            "Data columns (total 13 columns):\n",
            " #   Column                   Non-Null Count  Dtype         \n",
            "---  ------                   --------------  -----         \n",
            " 0   transaction_id           20000 non-null  int64         \n",
            " 1   product_id               20000 non-null  int64         \n",
            " 2   customer_id              20000 non-null  int64         \n",
            " 3   transaction_date         20000 non-null  datetime64[ns]\n",
            " 4   online_order             19640 non-null  float64       \n",
            " 5   order_status             20000 non-null  object        \n",
            " 6   brand                    19803 non-null  object        \n",
            " 7   product_line             19803 non-null  object        \n",
            " 8   product_class            19803 non-null  object        \n",
            " 9   product_size             19803 non-null  object        \n",
            " 10  list_price               20000 non-null  float64       \n",
            " 11  standard_cost            19803 non-null  float64       \n",
            " 12  product_first_sold_date  19803 non-null  float64       \n",
            "dtypes: datetime64[ns](1), float64(4), int64(3), object(5)\n",
            "memory usage: 2.0+ MB\n"
          ]
        }
      ]
    },
    {
      "cell_type": "code",
      "metadata": {
        "id": "l9ApDHLCyp1d"
      },
      "source": [
        "# converting the float to datetime format \n",
        "df['product_first_sold_date'] = pd.to_datetime(df['product_first_sold_date']).dt.date "
      ],
      "execution_count": 6,
      "outputs": []
    },
    {
      "cell_type": "code",
      "metadata": {
        "colab": {
          "base_uri": "https://localhost:8080/",
          "height": 296
        },
        "id": "x3oOBIur177-",
        "outputId": "1aed1f37-e603-4bb7-9c19-d7e19d7bfa5a"
      },
      "source": [
        "df.head()"
      ],
      "execution_count": 7,
      "outputs": [
        {
          "output_type": "execute_result",
          "data": {
            "text/html": [
              "<div>\n",
              "<style scoped>\n",
              "    .dataframe tbody tr th:only-of-type {\n",
              "        vertical-align: middle;\n",
              "    }\n",
              "\n",
              "    .dataframe tbody tr th {\n",
              "        vertical-align: top;\n",
              "    }\n",
              "\n",
              "    .dataframe thead th {\n",
              "        text-align: right;\n",
              "    }\n",
              "</style>\n",
              "<table border=\"1\" class=\"dataframe\">\n",
              "  <thead>\n",
              "    <tr style=\"text-align: right;\">\n",
              "      <th></th>\n",
              "      <th>transaction_id</th>\n",
              "      <th>product_id</th>\n",
              "      <th>customer_id</th>\n",
              "      <th>transaction_date</th>\n",
              "      <th>online_order</th>\n",
              "      <th>order_status</th>\n",
              "      <th>brand</th>\n",
              "      <th>product_line</th>\n",
              "      <th>product_class</th>\n",
              "      <th>product_size</th>\n",
              "      <th>list_price</th>\n",
              "      <th>standard_cost</th>\n",
              "      <th>product_first_sold_date</th>\n",
              "    </tr>\n",
              "  </thead>\n",
              "  <tbody>\n",
              "    <tr>\n",
              "      <th>0</th>\n",
              "      <td>1</td>\n",
              "      <td>2</td>\n",
              "      <td>2950</td>\n",
              "      <td>2017-02-25</td>\n",
              "      <td>0.0</td>\n",
              "      <td>Approved</td>\n",
              "      <td>Solex</td>\n",
              "      <td>Standard</td>\n",
              "      <td>medium</td>\n",
              "      <td>medium</td>\n",
              "      <td>71.49</td>\n",
              "      <td>53.62</td>\n",
              "      <td>1970-01-01</td>\n",
              "    </tr>\n",
              "    <tr>\n",
              "      <th>1</th>\n",
              "      <td>2</td>\n",
              "      <td>3</td>\n",
              "      <td>3120</td>\n",
              "      <td>2017-05-21</td>\n",
              "      <td>1.0</td>\n",
              "      <td>Approved</td>\n",
              "      <td>Trek Bicycles</td>\n",
              "      <td>Standard</td>\n",
              "      <td>medium</td>\n",
              "      <td>large</td>\n",
              "      <td>2091.47</td>\n",
              "      <td>388.92</td>\n",
              "      <td>1970-01-01</td>\n",
              "    </tr>\n",
              "    <tr>\n",
              "      <th>2</th>\n",
              "      <td>3</td>\n",
              "      <td>37</td>\n",
              "      <td>402</td>\n",
              "      <td>2017-10-16</td>\n",
              "      <td>0.0</td>\n",
              "      <td>Approved</td>\n",
              "      <td>OHM Cycles</td>\n",
              "      <td>Standard</td>\n",
              "      <td>low</td>\n",
              "      <td>medium</td>\n",
              "      <td>1793.43</td>\n",
              "      <td>248.82</td>\n",
              "      <td>1970-01-01</td>\n",
              "    </tr>\n",
              "    <tr>\n",
              "      <th>3</th>\n",
              "      <td>4</td>\n",
              "      <td>88</td>\n",
              "      <td>3135</td>\n",
              "      <td>2017-08-31</td>\n",
              "      <td>0.0</td>\n",
              "      <td>Approved</td>\n",
              "      <td>Norco Bicycles</td>\n",
              "      <td>Standard</td>\n",
              "      <td>medium</td>\n",
              "      <td>medium</td>\n",
              "      <td>1198.46</td>\n",
              "      <td>381.10</td>\n",
              "      <td>1970-01-01</td>\n",
              "    </tr>\n",
              "    <tr>\n",
              "      <th>4</th>\n",
              "      <td>5</td>\n",
              "      <td>78</td>\n",
              "      <td>787</td>\n",
              "      <td>2017-10-01</td>\n",
              "      <td>1.0</td>\n",
              "      <td>Approved</td>\n",
              "      <td>Giant Bicycles</td>\n",
              "      <td>Standard</td>\n",
              "      <td>medium</td>\n",
              "      <td>large</td>\n",
              "      <td>1765.30</td>\n",
              "      <td>709.48</td>\n",
              "      <td>1970-01-01</td>\n",
              "    </tr>\n",
              "  </tbody>\n",
              "</table>\n",
              "</div>"
            ],
            "text/plain": [
              "   transaction_id  product_id  ...  standard_cost product_first_sold_date\n",
              "0               1           2  ...          53.62              1970-01-01\n",
              "1               2           3  ...         388.92              1970-01-01\n",
              "2               3          37  ...         248.82              1970-01-01\n",
              "3               4          88  ...         381.10              1970-01-01\n",
              "4               5          78  ...         709.48              1970-01-01\n",
              "\n",
              "[5 rows x 13 columns]"
            ]
          },
          "metadata": {},
          "execution_count": 7
        }
      ]
    },
    {
      "cell_type": "code",
      "metadata": {
        "colab": {
          "base_uri": "https://localhost:8080/"
        },
        "id": "jLkZ0fPo1-Jz",
        "outputId": "4a474e06-11ff-4056-9ba3-484ecefeb900"
      },
      "source": [
        "df.isnull().sum()"
      ],
      "execution_count": 8,
      "outputs": [
        {
          "output_type": "execute_result",
          "data": {
            "text/plain": [
              "transaction_id               0\n",
              "product_id                   0\n",
              "customer_id                  0\n",
              "transaction_date             0\n",
              "online_order               360\n",
              "order_status                 0\n",
              "brand                      197\n",
              "product_line               197\n",
              "product_class              197\n",
              "product_size               197\n",
              "list_price                   0\n",
              "standard_cost              197\n",
              "product_first_sold_date    197\n",
              "dtype: int64"
            ]
          },
          "metadata": {},
          "execution_count": 8
        }
      ]
    },
    {
      "cell_type": "code",
      "metadata": {
        "colab": {
          "base_uri": "https://localhost:8080/"
        },
        "id": "7xD7gUFX2jyF",
        "outputId": "23b7a001-4a27-42c7-b178-248315382e82"
      },
      "source": [
        "df[\"online_order\"].value_counts()"
      ],
      "execution_count": 9,
      "outputs": [
        {
          "output_type": "execute_result",
          "data": {
            "text/plain": [
              "1.0    9829\n",
              "0.0    9811\n",
              "Name: online_order, dtype: int64"
            ]
          },
          "metadata": {},
          "execution_count": 9
        }
      ]
    },
    {
      "cell_type": "code",
      "metadata": {
        "colab": {
          "base_uri": "https://localhost:8080/"
        },
        "id": "WyLHpjcJ3S2W",
        "outputId": "09282cac-6c34-4ed1-ab2c-3944adc3483f"
      },
      "source": [
        "df[\"brand\"].value_counts()"
      ],
      "execution_count": 10,
      "outputs": [
        {
          "output_type": "execute_result",
          "data": {
            "text/plain": [
              "Solex             4253\n",
              "Giant Bicycles    3312\n",
              "WeareA2B          3295\n",
              "OHM Cycles        3043\n",
              "Trek Bicycles     2990\n",
              "Norco Bicycles    2910\n",
              "Name: brand, dtype: int64"
            ]
          },
          "metadata": {},
          "execution_count": 10
        }
      ]
    },
    {
      "cell_type": "code",
      "metadata": {
        "colab": {
          "base_uri": "https://localhost:8080/"
        },
        "id": "vVhIH4hZ39I8",
        "outputId": "175391cc-1e3b-446c-d3a1-7d71f4a4ad42"
      },
      "source": [
        "# occurrence based on all columns\n",
        "duplicate = df[df.duplicated()]\n",
        "df[duplicate].sum()"
      ],
      "execution_count": 11,
      "outputs": [
        {
          "output_type": "execute_result",
          "data": {
            "text/plain": [
              "transaction_id             0.0\n",
              "product_id                 0.0\n",
              "customer_id                0.0\n",
              "online_order               0.0\n",
              "order_status               0.0\n",
              "brand                      0.0\n",
              "product_line               0.0\n",
              "product_class              0.0\n",
              "product_size               0.0\n",
              "list_price                 0.0\n",
              "standard_cost              0.0\n",
              "product_first_sold_date    0.0\n",
              "dtype: float64"
            ]
          },
          "metadata": {},
          "execution_count": 11
        }
      ]
    },
    {
      "cell_type": "code",
      "metadata": {
        "id": "vgPF3wfu6-_T"
      },
      "source": [
        "df1 = pd.read_excel(\"/content/drive/MyDrive/kaggle/kpmg.xlsx\",sheet_name=\"NewCustomerList\")"
      ],
      "execution_count": 12,
      "outputs": []
    },
    {
      "cell_type": "code",
      "metadata": {
        "colab": {
          "base_uri": "https://localhost:8080/",
          "height": 417
        },
        "id": "DqxT5cAyFzEx",
        "outputId": "70b0ddd5-d325-463b-a67a-6ea9e0440c48"
      },
      "source": [
        "df1.head()"
      ],
      "execution_count": 13,
      "outputs": [
        {
          "output_type": "execute_result",
          "data": {
            "text/html": [
              "<div>\n",
              "<style scoped>\n",
              "    .dataframe tbody tr th:only-of-type {\n",
              "        vertical-align: middle;\n",
              "    }\n",
              "\n",
              "    .dataframe tbody tr th {\n",
              "        vertical-align: top;\n",
              "    }\n",
              "\n",
              "    .dataframe thead th {\n",
              "        text-align: right;\n",
              "    }\n",
              "</style>\n",
              "<table border=\"1\" class=\"dataframe\">\n",
              "  <thead>\n",
              "    <tr style=\"text-align: right;\">\n",
              "      <th></th>\n",
              "      <th>first_name</th>\n",
              "      <th>last_name</th>\n",
              "      <th>gender</th>\n",
              "      <th>past_3_years_bike_related_purchases</th>\n",
              "      <th>DOB</th>\n",
              "      <th>job_title</th>\n",
              "      <th>job_industry_category</th>\n",
              "      <th>wealth_segment</th>\n",
              "      <th>deceased_indicator</th>\n",
              "      <th>owns_car</th>\n",
              "      <th>tenure</th>\n",
              "      <th>address</th>\n",
              "      <th>postcode</th>\n",
              "      <th>state</th>\n",
              "      <th>country</th>\n",
              "      <th>property_valuation</th>\n",
              "      <th>Unnamed: 16</th>\n",
              "      <th>Unnamed: 17</th>\n",
              "      <th>Unnamed: 18</th>\n",
              "      <th>Unnamed: 19</th>\n",
              "      <th>Unnamed: 20</th>\n",
              "      <th>Rank</th>\n",
              "      <th>Value</th>\n",
              "    </tr>\n",
              "  </thead>\n",
              "  <tbody>\n",
              "    <tr>\n",
              "      <th>0</th>\n",
              "      <td>Chickie</td>\n",
              "      <td>Brister</td>\n",
              "      <td>Male</td>\n",
              "      <td>86</td>\n",
              "      <td>1957-07-12</td>\n",
              "      <td>General Manager</td>\n",
              "      <td>Manufacturing</td>\n",
              "      <td>Mass Customer</td>\n",
              "      <td>N</td>\n",
              "      <td>Yes</td>\n",
              "      <td>14</td>\n",
              "      <td>45 Shopko Center</td>\n",
              "      <td>4500</td>\n",
              "      <td>QLD</td>\n",
              "      <td>Australia</td>\n",
              "      <td>6</td>\n",
              "      <td>0.83</td>\n",
              "      <td>1.0375</td>\n",
              "      <td>1.296875</td>\n",
              "      <td>1.102344</td>\n",
              "      <td>1</td>\n",
              "      <td>1</td>\n",
              "      <td>1.718750</td>\n",
              "    </tr>\n",
              "    <tr>\n",
              "      <th>1</th>\n",
              "      <td>Morly</td>\n",
              "      <td>Genery</td>\n",
              "      <td>Male</td>\n",
              "      <td>69</td>\n",
              "      <td>1970-03-22</td>\n",
              "      <td>Structural Engineer</td>\n",
              "      <td>Property</td>\n",
              "      <td>Mass Customer</td>\n",
              "      <td>N</td>\n",
              "      <td>No</td>\n",
              "      <td>16</td>\n",
              "      <td>14 Mccormick Park</td>\n",
              "      <td>2113</td>\n",
              "      <td>NSW</td>\n",
              "      <td>Australia</td>\n",
              "      <td>11</td>\n",
              "      <td>0.97</td>\n",
              "      <td>0.9700</td>\n",
              "      <td>1.212500</td>\n",
              "      <td>1.030625</td>\n",
              "      <td>1</td>\n",
              "      <td>1</td>\n",
              "      <td>1.718750</td>\n",
              "    </tr>\n",
              "    <tr>\n",
              "      <th>2</th>\n",
              "      <td>Ardelis</td>\n",
              "      <td>Forrester</td>\n",
              "      <td>Female</td>\n",
              "      <td>10</td>\n",
              "      <td>1974-08-28</td>\n",
              "      <td>Senior Cost Accountant</td>\n",
              "      <td>Financial Services</td>\n",
              "      <td>Affluent Customer</td>\n",
              "      <td>N</td>\n",
              "      <td>No</td>\n",
              "      <td>10</td>\n",
              "      <td>5 Colorado Crossing</td>\n",
              "      <td>3505</td>\n",
              "      <td>VIC</td>\n",
              "      <td>Australia</td>\n",
              "      <td>5</td>\n",
              "      <td>0.92</td>\n",
              "      <td>0.9200</td>\n",
              "      <td>0.920000</td>\n",
              "      <td>0.920000</td>\n",
              "      <td>1</td>\n",
              "      <td>1</td>\n",
              "      <td>1.718750</td>\n",
              "    </tr>\n",
              "    <tr>\n",
              "      <th>3</th>\n",
              "      <td>Lucine</td>\n",
              "      <td>Stutt</td>\n",
              "      <td>Female</td>\n",
              "      <td>64</td>\n",
              "      <td>1979-01-28</td>\n",
              "      <td>Account Representative III</td>\n",
              "      <td>Manufacturing</td>\n",
              "      <td>Affluent Customer</td>\n",
              "      <td>N</td>\n",
              "      <td>Yes</td>\n",
              "      <td>5</td>\n",
              "      <td>207 Annamark Plaza</td>\n",
              "      <td>4814</td>\n",
              "      <td>QLD</td>\n",
              "      <td>Australia</td>\n",
              "      <td>1</td>\n",
              "      <td>0.52</td>\n",
              "      <td>0.6500</td>\n",
              "      <td>0.650000</td>\n",
              "      <td>0.650000</td>\n",
              "      <td>4</td>\n",
              "      <td>4</td>\n",
              "      <td>1.703125</td>\n",
              "    </tr>\n",
              "    <tr>\n",
              "      <th>4</th>\n",
              "      <td>Melinda</td>\n",
              "      <td>Hadlee</td>\n",
              "      <td>Female</td>\n",
              "      <td>34</td>\n",
              "      <td>1965-09-21</td>\n",
              "      <td>Financial Analyst</td>\n",
              "      <td>Financial Services</td>\n",
              "      <td>Affluent Customer</td>\n",
              "      <td>N</td>\n",
              "      <td>No</td>\n",
              "      <td>19</td>\n",
              "      <td>115 Montana Place</td>\n",
              "      <td>2093</td>\n",
              "      <td>NSW</td>\n",
              "      <td>Australia</td>\n",
              "      <td>9</td>\n",
              "      <td>0.55</td>\n",
              "      <td>0.5500</td>\n",
              "      <td>0.687500</td>\n",
              "      <td>0.687500</td>\n",
              "      <td>4</td>\n",
              "      <td>4</td>\n",
              "      <td>1.703125</td>\n",
              "    </tr>\n",
              "  </tbody>\n",
              "</table>\n",
              "</div>"
            ],
            "text/plain": [
              "  first_name  last_name  gender  ...  Unnamed: 20 Rank     Value\n",
              "0    Chickie    Brister    Male  ...            1    1  1.718750\n",
              "1      Morly     Genery    Male  ...            1    1  1.718750\n",
              "2    Ardelis  Forrester  Female  ...            1    1  1.718750\n",
              "3     Lucine      Stutt  Female  ...            4    4  1.703125\n",
              "4    Melinda     Hadlee  Female  ...            4    4  1.703125\n",
              "\n",
              "[5 rows x 23 columns]"
            ]
          },
          "metadata": {},
          "execution_count": 13
        }
      ]
    },
    {
      "cell_type": "code",
      "metadata": {
        "colab": {
          "base_uri": "https://localhost:8080/"
        },
        "id": "McJsrZVRGFzR",
        "outputId": "89b62ed3-7d1d-4107-8cde-04a3c62f84a2"
      },
      "source": [
        "df1.info()"
      ],
      "execution_count": 14,
      "outputs": [
        {
          "output_type": "stream",
          "name": "stdout",
          "text": [
            "<class 'pandas.core.frame.DataFrame'>\n",
            "RangeIndex: 1000 entries, 0 to 999\n",
            "Data columns (total 23 columns):\n",
            " #   Column                               Non-Null Count  Dtype         \n",
            "---  ------                               --------------  -----         \n",
            " 0   first_name                           1000 non-null   object        \n",
            " 1   last_name                            971 non-null    object        \n",
            " 2   gender                               1000 non-null   object        \n",
            " 3   past_3_years_bike_related_purchases  1000 non-null   int64         \n",
            " 4   DOB                                  983 non-null    datetime64[ns]\n",
            " 5   job_title                            894 non-null    object        \n",
            " 6   job_industry_category                835 non-null    object        \n",
            " 7   wealth_segment                       1000 non-null   object        \n",
            " 8   deceased_indicator                   1000 non-null   object        \n",
            " 9   owns_car                             1000 non-null   object        \n",
            " 10  tenure                               1000 non-null   int64         \n",
            " 11  address                              1000 non-null   object        \n",
            " 12  postcode                             1000 non-null   int64         \n",
            " 13  state                                1000 non-null   object        \n",
            " 14  country                              1000 non-null   object        \n",
            " 15  property_valuation                   1000 non-null   int64         \n",
            " 16  Unnamed: 16                          1000 non-null   float64       \n",
            " 17  Unnamed: 17                          1000 non-null   float64       \n",
            " 18  Unnamed: 18                          1000 non-null   float64       \n",
            " 19  Unnamed: 19                          1000 non-null   float64       \n",
            " 20  Unnamed: 20                          1000 non-null   int64         \n",
            " 21  Rank                                 1000 non-null   int64         \n",
            " 22  Value                                1000 non-null   float64       \n",
            "dtypes: datetime64[ns](1), float64(5), int64(6), object(11)\n",
            "memory usage: 179.8+ KB\n"
          ]
        }
      ]
    },
    {
      "cell_type": "code",
      "metadata": {
        "id": "6WQ7-6xyGRj4"
      },
      "source": [
        "cols = ['Unnamed: 16','Unnamed: 17','Unnamed: 18','Unnamed: 19','Unnamed: 20']"
      ],
      "execution_count": 15,
      "outputs": []
    },
    {
      "cell_type": "code",
      "metadata": {
        "id": "VZdMWlW2GfeJ"
      },
      "source": [
        "df1.drop(cols, axis=1,inplace = True)"
      ],
      "execution_count": 16,
      "outputs": []
    },
    {
      "cell_type": "code",
      "metadata": {
        "id": "kqVi_e5AIDTw",
        "colab": {
          "base_uri": "https://localhost:8080/",
          "height": 400
        },
        "outputId": "84ef0a80-f6ec-4405-e690-e916c3e89898"
      },
      "source": [
        "df1.head()"
      ],
      "execution_count": 17,
      "outputs": [
        {
          "output_type": "execute_result",
          "data": {
            "text/html": [
              "<div>\n",
              "<style scoped>\n",
              "    .dataframe tbody tr th:only-of-type {\n",
              "        vertical-align: middle;\n",
              "    }\n",
              "\n",
              "    .dataframe tbody tr th {\n",
              "        vertical-align: top;\n",
              "    }\n",
              "\n",
              "    .dataframe thead th {\n",
              "        text-align: right;\n",
              "    }\n",
              "</style>\n",
              "<table border=\"1\" class=\"dataframe\">\n",
              "  <thead>\n",
              "    <tr style=\"text-align: right;\">\n",
              "      <th></th>\n",
              "      <th>first_name</th>\n",
              "      <th>last_name</th>\n",
              "      <th>gender</th>\n",
              "      <th>past_3_years_bike_related_purchases</th>\n",
              "      <th>DOB</th>\n",
              "      <th>job_title</th>\n",
              "      <th>job_industry_category</th>\n",
              "      <th>wealth_segment</th>\n",
              "      <th>deceased_indicator</th>\n",
              "      <th>owns_car</th>\n",
              "      <th>tenure</th>\n",
              "      <th>address</th>\n",
              "      <th>postcode</th>\n",
              "      <th>state</th>\n",
              "      <th>country</th>\n",
              "      <th>property_valuation</th>\n",
              "      <th>Rank</th>\n",
              "      <th>Value</th>\n",
              "    </tr>\n",
              "  </thead>\n",
              "  <tbody>\n",
              "    <tr>\n",
              "      <th>0</th>\n",
              "      <td>Chickie</td>\n",
              "      <td>Brister</td>\n",
              "      <td>Male</td>\n",
              "      <td>86</td>\n",
              "      <td>1957-07-12</td>\n",
              "      <td>General Manager</td>\n",
              "      <td>Manufacturing</td>\n",
              "      <td>Mass Customer</td>\n",
              "      <td>N</td>\n",
              "      <td>Yes</td>\n",
              "      <td>14</td>\n",
              "      <td>45 Shopko Center</td>\n",
              "      <td>4500</td>\n",
              "      <td>QLD</td>\n",
              "      <td>Australia</td>\n",
              "      <td>6</td>\n",
              "      <td>1</td>\n",
              "      <td>1.718750</td>\n",
              "    </tr>\n",
              "    <tr>\n",
              "      <th>1</th>\n",
              "      <td>Morly</td>\n",
              "      <td>Genery</td>\n",
              "      <td>Male</td>\n",
              "      <td>69</td>\n",
              "      <td>1970-03-22</td>\n",
              "      <td>Structural Engineer</td>\n",
              "      <td>Property</td>\n",
              "      <td>Mass Customer</td>\n",
              "      <td>N</td>\n",
              "      <td>No</td>\n",
              "      <td>16</td>\n",
              "      <td>14 Mccormick Park</td>\n",
              "      <td>2113</td>\n",
              "      <td>NSW</td>\n",
              "      <td>Australia</td>\n",
              "      <td>11</td>\n",
              "      <td>1</td>\n",
              "      <td>1.718750</td>\n",
              "    </tr>\n",
              "    <tr>\n",
              "      <th>2</th>\n",
              "      <td>Ardelis</td>\n",
              "      <td>Forrester</td>\n",
              "      <td>Female</td>\n",
              "      <td>10</td>\n",
              "      <td>1974-08-28</td>\n",
              "      <td>Senior Cost Accountant</td>\n",
              "      <td>Financial Services</td>\n",
              "      <td>Affluent Customer</td>\n",
              "      <td>N</td>\n",
              "      <td>No</td>\n",
              "      <td>10</td>\n",
              "      <td>5 Colorado Crossing</td>\n",
              "      <td>3505</td>\n",
              "      <td>VIC</td>\n",
              "      <td>Australia</td>\n",
              "      <td>5</td>\n",
              "      <td>1</td>\n",
              "      <td>1.718750</td>\n",
              "    </tr>\n",
              "    <tr>\n",
              "      <th>3</th>\n",
              "      <td>Lucine</td>\n",
              "      <td>Stutt</td>\n",
              "      <td>Female</td>\n",
              "      <td>64</td>\n",
              "      <td>1979-01-28</td>\n",
              "      <td>Account Representative III</td>\n",
              "      <td>Manufacturing</td>\n",
              "      <td>Affluent Customer</td>\n",
              "      <td>N</td>\n",
              "      <td>Yes</td>\n",
              "      <td>5</td>\n",
              "      <td>207 Annamark Plaza</td>\n",
              "      <td>4814</td>\n",
              "      <td>QLD</td>\n",
              "      <td>Australia</td>\n",
              "      <td>1</td>\n",
              "      <td>4</td>\n",
              "      <td>1.703125</td>\n",
              "    </tr>\n",
              "    <tr>\n",
              "      <th>4</th>\n",
              "      <td>Melinda</td>\n",
              "      <td>Hadlee</td>\n",
              "      <td>Female</td>\n",
              "      <td>34</td>\n",
              "      <td>1965-09-21</td>\n",
              "      <td>Financial Analyst</td>\n",
              "      <td>Financial Services</td>\n",
              "      <td>Affluent Customer</td>\n",
              "      <td>N</td>\n",
              "      <td>No</td>\n",
              "      <td>19</td>\n",
              "      <td>115 Montana Place</td>\n",
              "      <td>2093</td>\n",
              "      <td>NSW</td>\n",
              "      <td>Australia</td>\n",
              "      <td>9</td>\n",
              "      <td>4</td>\n",
              "      <td>1.703125</td>\n",
              "    </tr>\n",
              "  </tbody>\n",
              "</table>\n",
              "</div>"
            ],
            "text/plain": [
              "  first_name  last_name  gender  ...  property_valuation Rank     Value\n",
              "0    Chickie    Brister    Male  ...                   6    1  1.718750\n",
              "1      Morly     Genery    Male  ...                  11    1  1.718750\n",
              "2    Ardelis  Forrester  Female  ...                   5    1  1.718750\n",
              "3     Lucine      Stutt  Female  ...                   1    4  1.703125\n",
              "4    Melinda     Hadlee  Female  ...                   9    4  1.703125\n",
              "\n",
              "[5 rows x 18 columns]"
            ]
          },
          "metadata": {},
          "execution_count": 17
        }
      ]
    },
    {
      "cell_type": "code",
      "metadata": {
        "colab": {
          "base_uri": "https://localhost:8080/"
        },
        "id": "IosG7q56TkeP",
        "outputId": "74ae7094-e10b-4cc4-c696-2cdc0c4b3208"
      },
      "source": [
        "df1.isnull().sum()"
      ],
      "execution_count": 18,
      "outputs": [
        {
          "output_type": "execute_result",
          "data": {
            "text/plain": [
              "first_name                               0\n",
              "last_name                               29\n",
              "gender                                   0\n",
              "past_3_years_bike_related_purchases      0\n",
              "DOB                                     17\n",
              "job_title                              106\n",
              "job_industry_category                  165\n",
              "wealth_segment                           0\n",
              "deceased_indicator                       0\n",
              "owns_car                                 0\n",
              "tenure                                   0\n",
              "address                                  0\n",
              "postcode                                 0\n",
              "state                                    0\n",
              "country                                  0\n",
              "property_valuation                       0\n",
              "Rank                                     0\n",
              "Value                                    0\n",
              "dtype: int64"
            ]
          },
          "metadata": {},
          "execution_count": 18
        }
      ]
    },
    {
      "cell_type": "code",
      "metadata": {
        "colab": {
          "base_uri": "https://localhost:8080/"
        },
        "id": "E5UWWbH7Tvt_",
        "outputId": "1353b0df-f592-4687-908e-e2ad84fda418"
      },
      "source": [
        "df1.duplicated().sum()"
      ],
      "execution_count": 19,
      "outputs": [
        {
          "output_type": "execute_result",
          "data": {
            "text/plain": [
              "0"
            ]
          },
          "metadata": {},
          "execution_count": 19
        }
      ]
    },
    {
      "cell_type": "code",
      "metadata": {
        "colab": {
          "base_uri": "https://localhost:8080/"
        },
        "id": "pO0FYU8nUcvv",
        "outputId": "3d38a9db-b9b2-483e-d585-981963e3aa71"
      },
      "source": [
        "df1[\"gender\"].value_counts()"
      ],
      "execution_count": 20,
      "outputs": [
        {
          "output_type": "execute_result",
          "data": {
            "text/plain": [
              "Female    513\n",
              "Male      470\n",
              "U          17\n",
              "Name: gender, dtype: int64"
            ]
          },
          "metadata": {},
          "execution_count": 20
        }
      ]
    },
    {
      "cell_type": "code",
      "metadata": {
        "id": "t8wg2LD_T0me"
      },
      "source": [
        "df1=df1.replace(to_replace =[\"U\"], value =\"Unspecified\")"
      ],
      "execution_count": 21,
      "outputs": []
    },
    {
      "cell_type": "code",
      "metadata": {
        "colab": {
          "base_uri": "https://localhost:8080/"
        },
        "id": "IJzl1GM0U0Km",
        "outputId": "6483584a-83e3-48f2-a51d-f68080df4d95"
      },
      "source": [
        "df1[\"gender\"].value_counts()"
      ],
      "execution_count": 22,
      "outputs": [
        {
          "output_type": "execute_result",
          "data": {
            "text/plain": [
              "Female         513\n",
              "Male           470\n",
              "Unspecified     17\n",
              "Name: gender, dtype: int64"
            ]
          },
          "metadata": {},
          "execution_count": 22
        }
      ]
    },
    {
      "cell_type": "code",
      "metadata": {
        "id": "Mx7ffH4CWI0n"
      },
      "source": [
        "df2 = pd.read_excel(\"/content/drive/MyDrive/kaggle/kpmg.xlsx\",sheet_name=\"CustomerDemographic\")"
      ],
      "execution_count": 23,
      "outputs": []
    },
    {
      "cell_type": "code",
      "metadata": {
        "colab": {
          "base_uri": "https://localhost:8080/",
          "height": 330
        },
        "id": "P9crimPOWsHm",
        "outputId": "f0fcc688-b40c-49c7-d3bb-f3a3f98a4a6f"
      },
      "source": [
        "df2.head()"
      ],
      "execution_count": 24,
      "outputs": [
        {
          "output_type": "execute_result",
          "data": {
            "text/html": [
              "<div>\n",
              "<style scoped>\n",
              "    .dataframe tbody tr th:only-of-type {\n",
              "        vertical-align: middle;\n",
              "    }\n",
              "\n",
              "    .dataframe tbody tr th {\n",
              "        vertical-align: top;\n",
              "    }\n",
              "\n",
              "    .dataframe thead th {\n",
              "        text-align: right;\n",
              "    }\n",
              "</style>\n",
              "<table border=\"1\" class=\"dataframe\">\n",
              "  <thead>\n",
              "    <tr style=\"text-align: right;\">\n",
              "      <th></th>\n",
              "      <th>customer_id</th>\n",
              "      <th>first_name</th>\n",
              "      <th>last_name</th>\n",
              "      <th>gender</th>\n",
              "      <th>past_3_years_bike_related_purchases</th>\n",
              "      <th>DOB</th>\n",
              "      <th>job_title</th>\n",
              "      <th>job_industry_category</th>\n",
              "      <th>wealth_segment</th>\n",
              "      <th>deceased_indicator</th>\n",
              "      <th>default</th>\n",
              "      <th>owns_car</th>\n",
              "      <th>tenure</th>\n",
              "    </tr>\n",
              "  </thead>\n",
              "  <tbody>\n",
              "    <tr>\n",
              "      <th>0</th>\n",
              "      <td>1</td>\n",
              "      <td>Laraine</td>\n",
              "      <td>Medendorp</td>\n",
              "      <td>F</td>\n",
              "      <td>93</td>\n",
              "      <td>1953-10-12</td>\n",
              "      <td>Executive Secretary</td>\n",
              "      <td>Health</td>\n",
              "      <td>Mass Customer</td>\n",
              "      <td>N</td>\n",
              "      <td>\"'</td>\n",
              "      <td>Yes</td>\n",
              "      <td>11.0</td>\n",
              "    </tr>\n",
              "    <tr>\n",
              "      <th>1</th>\n",
              "      <td>2</td>\n",
              "      <td>Eli</td>\n",
              "      <td>Bockman</td>\n",
              "      <td>Male</td>\n",
              "      <td>81</td>\n",
              "      <td>1980-12-16</td>\n",
              "      <td>Administrative Officer</td>\n",
              "      <td>Financial Services</td>\n",
              "      <td>Mass Customer</td>\n",
              "      <td>N</td>\n",
              "      <td>&lt;script&gt;alert('hi')&lt;/script&gt;</td>\n",
              "      <td>Yes</td>\n",
              "      <td>16.0</td>\n",
              "    </tr>\n",
              "    <tr>\n",
              "      <th>2</th>\n",
              "      <td>3</td>\n",
              "      <td>Arlin</td>\n",
              "      <td>Dearle</td>\n",
              "      <td>Male</td>\n",
              "      <td>61</td>\n",
              "      <td>1954-01-20</td>\n",
              "      <td>Recruiting Manager</td>\n",
              "      <td>Property</td>\n",
              "      <td>Mass Customer</td>\n",
              "      <td>N</td>\n",
              "      <td>2018-02-01 00:00:00</td>\n",
              "      <td>Yes</td>\n",
              "      <td>15.0</td>\n",
              "    </tr>\n",
              "    <tr>\n",
              "      <th>3</th>\n",
              "      <td>4</td>\n",
              "      <td>Talbot</td>\n",
              "      <td>NaN</td>\n",
              "      <td>Male</td>\n",
              "      <td>33</td>\n",
              "      <td>1961-10-03</td>\n",
              "      <td>NaN</td>\n",
              "      <td>IT</td>\n",
              "      <td>Mass Customer</td>\n",
              "      <td>N</td>\n",
              "      <td>() { _; } &gt;_[$($())] { touch /tmp/blns.shellsh...</td>\n",
              "      <td>No</td>\n",
              "      <td>7.0</td>\n",
              "    </tr>\n",
              "    <tr>\n",
              "      <th>4</th>\n",
              "      <td>5</td>\n",
              "      <td>Sheila-kathryn</td>\n",
              "      <td>Calton</td>\n",
              "      <td>Female</td>\n",
              "      <td>56</td>\n",
              "      <td>1977-05-13</td>\n",
              "      <td>Senior Editor</td>\n",
              "      <td>NaN</td>\n",
              "      <td>Affluent Customer</td>\n",
              "      <td>N</td>\n",
              "      <td>NIL</td>\n",
              "      <td>Yes</td>\n",
              "      <td>8.0</td>\n",
              "    </tr>\n",
              "  </tbody>\n",
              "</table>\n",
              "</div>"
            ],
            "text/plain": [
              "   customer_id      first_name  ... owns_car tenure\n",
              "0            1         Laraine  ...      Yes   11.0\n",
              "1            2             Eli  ...      Yes   16.0\n",
              "2            3           Arlin  ...      Yes   15.0\n",
              "3            4          Talbot  ...       No    7.0\n",
              "4            5  Sheila-kathryn  ...      Yes    8.0\n",
              "\n",
              "[5 rows x 13 columns]"
            ]
          },
          "metadata": {},
          "execution_count": 24
        }
      ]
    },
    {
      "cell_type": "code",
      "metadata": {
        "colab": {
          "base_uri": "https://localhost:8080/"
        },
        "id": "a4PEZbLpU1jd",
        "outputId": "936cb37e-da81-4698-f017-b3e38d07d59e"
      },
      "source": [
        "df2[\"DOB\"].value_counts()"
      ],
      "execution_count": 35,
      "outputs": [
        {
          "output_type": "execute_result",
          "data": {
            "text/plain": [
              "1978-01-30    7\n",
              "1977-05-13    4\n",
              "1976-07-16    4\n",
              "1978-08-19    4\n",
              "1976-09-25    4\n",
              "             ..\n",
              "1974-06-16    1\n",
              "1969-11-21    1\n",
              "1961-11-24    1\n",
              "1995-05-03    1\n",
              "1972-04-14    1\n",
              "Name: DOB, Length: 3448, dtype: int64"
            ]
          },
          "metadata": {},
          "execution_count": 35
        }
      ]
    },
    {
      "cell_type": "code",
      "metadata": {
        "colab": {
          "base_uri": "https://localhost:8080/"
        },
        "id": "elit4h5aU_oE",
        "outputId": "7a3f17b9-f203-4a1a-c4de-0a07e68420c4"
      },
      "source": [
        "df2[\"DOB\"].isnull().sum()"
      ],
      "execution_count": 36,
      "outputs": [
        {
          "output_type": "execute_result",
          "data": {
            "text/plain": [
              "87"
            ]
          },
          "metadata": {},
          "execution_count": 36
        }
      ]
    },
    {
      "cell_type": "code",
      "metadata": {
        "colab": {
          "base_uri": "https://localhost:8080/"
        },
        "id": "zxEsk6bQVHfE",
        "outputId": "a6ddca79-c271-4854-ac8c-554839a6598d"
      },
      "source": [
        "df2.isnull().sum()"
      ],
      "execution_count": 37,
      "outputs": [
        {
          "output_type": "execute_result",
          "data": {
            "text/plain": [
              "customer_id                              0\n",
              "first_name                               0\n",
              "last_name                              125\n",
              "gender                                   0\n",
              "past_3_years_bike_related_purchases      0\n",
              "DOB                                     87\n",
              "job_title                              506\n",
              "job_industry_category                  656\n",
              "wealth_segment                           0\n",
              "deceased_indicator                       0\n",
              "owns_car                                 0\n",
              "tenure                                  87\n",
              "dtype: int64"
            ]
          },
          "metadata": {},
          "execution_count": 37
        }
      ]
    },
    {
      "cell_type": "code",
      "metadata": {
        "id": "2NRSFAzeWwD2"
      },
      "source": [
        "df2 = df2.drop('default',axis=1)"
      ],
      "execution_count": 25,
      "outputs": []
    },
    {
      "cell_type": "code",
      "metadata": {
        "colab": {
          "base_uri": "https://localhost:8080/"
        },
        "id": "obZsekzrZHEW",
        "outputId": "74c3ce3e-48b4-419d-dc3f-0747535682e0"
      },
      "source": [
        "df2[\"gender\"].value_counts()"
      ],
      "execution_count": 26,
      "outputs": [
        {
          "output_type": "execute_result",
          "data": {
            "text/plain": [
              "Female    2037\n",
              "Male      1872\n",
              "U           88\n",
              "Femal        1\n",
              "F            1\n",
              "M            1\n",
              "Name: gender, dtype: int64"
            ]
          },
          "metadata": {},
          "execution_count": 26
        }
      ]
    },
    {
      "cell_type": "code",
      "metadata": {
        "id": "G4Yjx6pPdo8t"
      },
      "source": [
        "df2[\"gender\"]=df2[\"gender\"].replace('F','Female').replace('Femal','Female').replace('M','Male').replace('U','Unspecified')"
      ],
      "execution_count": 27,
      "outputs": []
    },
    {
      "cell_type": "code",
      "metadata": {
        "colab": {
          "base_uri": "https://localhost:8080/"
        },
        "id": "C7rt7sXWeDS2",
        "outputId": "e1bbd673-e37f-48a8-b28f-6363bb67f5bc"
      },
      "source": [
        "df2[\"gender\"].value_counts()"
      ],
      "execution_count": 28,
      "outputs": [
        {
          "output_type": "execute_result",
          "data": {
            "text/plain": [
              "Female         2039\n",
              "Male           1873\n",
              "Unspecified      88\n",
              "Name: gender, dtype: int64"
            ]
          },
          "metadata": {},
          "execution_count": 28
        }
      ]
    },
    {
      "cell_type": "code",
      "metadata": {
        "id": "chKEDdzQmebx"
      },
      "source": [
        "df3 = pd.read_excel(\"/content/drive/MyDrive/kaggle/kpmg.xlsx\",sheet_name=\"CustomerAddress\")"
      ],
      "execution_count": 29,
      "outputs": []
    },
    {
      "cell_type": "code",
      "metadata": {
        "colab": {
          "base_uri": "https://localhost:8080/",
          "height": 206
        },
        "id": "Rs2-dGzKmleM",
        "outputId": "a97d0e02-a6f2-467f-e694-5994a873b183"
      },
      "source": [
        "df3.head()"
      ],
      "execution_count": 30,
      "outputs": [
        {
          "output_type": "execute_result",
          "data": {
            "text/html": [
              "<div>\n",
              "<style scoped>\n",
              "    .dataframe tbody tr th:only-of-type {\n",
              "        vertical-align: middle;\n",
              "    }\n",
              "\n",
              "    .dataframe tbody tr th {\n",
              "        vertical-align: top;\n",
              "    }\n",
              "\n",
              "    .dataframe thead th {\n",
              "        text-align: right;\n",
              "    }\n",
              "</style>\n",
              "<table border=\"1\" class=\"dataframe\">\n",
              "  <thead>\n",
              "    <tr style=\"text-align: right;\">\n",
              "      <th></th>\n",
              "      <th>customer_id</th>\n",
              "      <th>address</th>\n",
              "      <th>postcode</th>\n",
              "      <th>state</th>\n",
              "      <th>country</th>\n",
              "      <th>property_valuation</th>\n",
              "    </tr>\n",
              "  </thead>\n",
              "  <tbody>\n",
              "    <tr>\n",
              "      <th>0</th>\n",
              "      <td>1</td>\n",
              "      <td>060 Morning Avenue</td>\n",
              "      <td>2016</td>\n",
              "      <td>New South Wales</td>\n",
              "      <td>Australia</td>\n",
              "      <td>10</td>\n",
              "    </tr>\n",
              "    <tr>\n",
              "      <th>1</th>\n",
              "      <td>2</td>\n",
              "      <td>6 Meadow Vale Court</td>\n",
              "      <td>2153</td>\n",
              "      <td>New South Wales</td>\n",
              "      <td>Australia</td>\n",
              "      <td>10</td>\n",
              "    </tr>\n",
              "    <tr>\n",
              "      <th>2</th>\n",
              "      <td>4</td>\n",
              "      <td>0 Holy Cross Court</td>\n",
              "      <td>4211</td>\n",
              "      <td>QLD</td>\n",
              "      <td>Australia</td>\n",
              "      <td>9</td>\n",
              "    </tr>\n",
              "    <tr>\n",
              "      <th>3</th>\n",
              "      <td>5</td>\n",
              "      <td>17979 Del Mar Point</td>\n",
              "      <td>2448</td>\n",
              "      <td>New South Wales</td>\n",
              "      <td>Australia</td>\n",
              "      <td>4</td>\n",
              "    </tr>\n",
              "    <tr>\n",
              "      <th>4</th>\n",
              "      <td>6</td>\n",
              "      <td>9 Oakridge Court</td>\n",
              "      <td>3216</td>\n",
              "      <td>VIC</td>\n",
              "      <td>Australia</td>\n",
              "      <td>9</td>\n",
              "    </tr>\n",
              "  </tbody>\n",
              "</table>\n",
              "</div>"
            ],
            "text/plain": [
              "   customer_id              address  ...    country property_valuation\n",
              "0            1   060 Morning Avenue  ...  Australia                 10\n",
              "1            2  6 Meadow Vale Court  ...  Australia                 10\n",
              "2            4   0 Holy Cross Court  ...  Australia                  9\n",
              "3            5  17979 Del Mar Point  ...  Australia                  4\n",
              "4            6     9 Oakridge Court  ...  Australia                  9\n",
              "\n",
              "[5 rows x 6 columns]"
            ]
          },
          "metadata": {},
          "execution_count": 30
        }
      ]
    },
    {
      "cell_type": "code",
      "metadata": {
        "colab": {
          "base_uri": "https://localhost:8080/"
        },
        "id": "TjrLUATocCp9",
        "outputId": "5f005437-b3ba-4d9f-cdbc-cc6d28fd0dff"
      },
      "source": [
        "df3.isnull().sum()"
      ],
      "execution_count": 38,
      "outputs": [
        {
          "output_type": "execute_result",
          "data": {
            "text/plain": [
              "customer_id           0\n",
              "address               0\n",
              "postcode              0\n",
              "state                 0\n",
              "country               0\n",
              "property_valuation    0\n",
              "dtype: int64"
            ]
          },
          "metadata": {},
          "execution_count": 38
        }
      ]
    },
    {
      "cell_type": "code",
      "metadata": {
        "colab": {
          "base_uri": "https://localhost:8080/"
        },
        "id": "9GDn2idXmra7",
        "outputId": "5f75aee1-1338-4a1a-84a2-aefb00764c12"
      },
      "source": [
        "df3.info()"
      ],
      "execution_count": 31,
      "outputs": [
        {
          "output_type": "stream",
          "name": "stdout",
          "text": [
            "<class 'pandas.core.frame.DataFrame'>\n",
            "RangeIndex: 3999 entries, 0 to 3998\n",
            "Data columns (total 6 columns):\n",
            " #   Column              Non-Null Count  Dtype \n",
            "---  ------              --------------  ----- \n",
            " 0   customer_id         3999 non-null   int64 \n",
            " 1   address             3999 non-null   object\n",
            " 2   postcode            3999 non-null   int64 \n",
            " 3   state               3999 non-null   object\n",
            " 4   country             3999 non-null   object\n",
            " 5   property_valuation  3999 non-null   int64 \n",
            "dtypes: int64(3), object(3)\n",
            "memory usage: 187.6+ KB\n"
          ]
        }
      ]
    },
    {
      "cell_type": "code",
      "metadata": {
        "colab": {
          "base_uri": "https://localhost:8080/"
        },
        "id": "aXHwIzOdm0jc",
        "outputId": "d1437aec-5c44-4afa-fc78-49780940b1d0"
      },
      "source": [
        "df3[\"state\"].value_counts()"
      ],
      "execution_count": 32,
      "outputs": [
        {
          "output_type": "execute_result",
          "data": {
            "text/plain": [
              "NSW                2054\n",
              "VIC                 939\n",
              "QLD                 838\n",
              "New South Wales      86\n",
              "Victoria             82\n",
              "Name: state, dtype: int64"
            ]
          },
          "metadata": {},
          "execution_count": 32
        }
      ]
    },
    {
      "cell_type": "code",
      "metadata": {
        "id": "_4xc8CtrnBu7"
      },
      "source": [
        "df3[\"state\"] = df3[\"state\"].replace(\"New South Wales\",\"NSW\").replace(\"Victoria\",\"VIC\")"
      ],
      "execution_count": 33,
      "outputs": []
    },
    {
      "cell_type": "code",
      "metadata": {
        "colab": {
          "base_uri": "https://localhost:8080/"
        },
        "id": "S5ziFIs3nXPL",
        "outputId": "e755e67c-2b7e-496b-db0f-8d01103066d1"
      },
      "source": [
        "df3[\"state\"].value_counts()"
      ],
      "execution_count": 34,
      "outputs": [
        {
          "output_type": "execute_result",
          "data": {
            "text/plain": [
              "NSW    2140\n",
              "VIC    1021\n",
              "QLD     838\n",
              "Name: state, dtype: int64"
            ]
          },
          "metadata": {},
          "execution_count": 34
        }
      ]
    }
  ]
}